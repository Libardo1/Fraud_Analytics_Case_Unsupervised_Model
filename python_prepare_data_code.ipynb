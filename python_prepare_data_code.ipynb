{
 "cells": [
  {
   "cell_type": "code",
   "execution_count": 1,
   "metadata": {
    "collapsed": true
   },
   "outputs": [],
   "source": [
    "import pandas as pd\n",
    "import numpy as np"
   ]
  },
  {
   "cell_type": "code",
   "execution_count": null,
   "metadata": {
    "collapsed": true
   },
   "outputs": [],
   "source": [
    "df = pd.read_csv('NY_Property_Cleaned.csv')"
   ]
  },
  {
   "cell_type": "code",
   "execution_count": null,
   "metadata": {
    "collapsed": true
   },
   "outputs": [],
   "source": [
    "avg_zip3 = df.iloc[:,[32,-9,-8,-7,-6,-5,-4,-3,-2,-1]].groupby(['TAXCLASS']).transform('mean')\n",
    "avg_zip3.columns = ['FULLLOT_ZIP3','FULLBAREA_ZIP3','FULLBVOL_ZIP3','LANDLOT_ZIP3',\n",
    "                             'LANDBAREA_ZIP3','LANDBVOL_ZIP3','TOTLOT_ZIP3','TOTBAREA_ZIP3',\n",
    "                             'TOTBVOL_ZIP3']\n",
    "\n",
    "avg_taxclass = df.iloc[:,[8,-9,-8,-7,-6,-5,-4,-3,-2,-1]].groupby(['TAXCLASS']).transform('mean')\n",
    "avg_taxclass.columns = ['FULLLOT_TAXCLASS','FULLBAREA_TAXCLASS','FULLBVOL_TAXCLASS','LANDLOT_TAXCLASS',\n",
    "                             'LANDBAREA_TAXCLASS','LANDBVOL_TAXCLASS','TOTLOT_TAXCLASS','TOTBAREA_TAXCLASS',\n",
    "                             'TOTBVOL_TAXCLASS']\n",
    "\n",
    "avg_boro = df.iloc[:,[31,-9,-8,-7,-6,-5,-4,-3,-2,-1]].groupby(['BORO']).transform('mean')\n",
    "avg_boro.columns = ['FULLLOT_BORO','FULLBAREA_BORO','FULLBVOL_BORO','LANDLOT_BORO', 'LANDBAREA_BORO',\n",
    "                    'LANDBVOL_BORO','TOTLOT_BORO','TOTBAREA_BORO', 'TOTBVOL_BORO']\n",
    "\n",
    "avg_BLDGCL = df.iloc[:,[7,-9,-8,-7,-6,-5,-4,-3,-2,-1]].groupby(['BLDGCL']).transform('mean')\n",
    "avg_BLDGCL.columns = ['FULLLOT_BLDGCL','FULLBAREA_BLDGCL','FULLBVOL_BLDGCL','LANDLOT_BLDGCL',\n",
    "                             'LANDBAREA_BLDGCL','LANDBVOL_BLDGCL','TOTLOT_BLDGCL','TOTBAREA_BLDGCL',\n",
    "                             'TOTBVOL_BLDGCL']\n",
    "\n"
   ]
  },
  {
   "cell_type": "code",
   "execution_count": null,
   "metadata": {
    "collapsed": true
   },
   "outputs": [],
   "source": [
    "NY_Property_Cleaned_nocclt = pd.concat([df,avg_zip3,avg_taxclass,avg_boro,avg_BLDGCL], axis=1)"
   ]
  },
  {
   "cell_type": "code",
   "execution_count": null,
   "metadata": {
    "collapsed": true
   },
   "outputs": [],
   "source": [
    "df = NY_Property_Cleaned_nocclt"
   ]
  },
  {
   "cell_type": "code",
   "execution_count": null,
   "metadata": {
    "collapsed": true
   },
   "outputs": [],
   "source": [
    "#ZIP3\n",
    "df['FULL_LOT_ZIP3']=df['FULL_LOT']/df['FULLLOT_ZIP3']\n",
    "df['FULL_BAREA_ZIP3']=df['FULL_BAREA']/df['FULLBAREA_ZIP3']\n",
    "df['FULL_BVOL_ZIP3']=df['FULL_BVOL']/df['FULLBVOL_ZIP3']\n",
    "df['LAND_LOT_ZIP3']=df['LAND_LOT']/df['LANDLOT_ZIP3']\n",
    "df['LAND_BAREA_ZIP3']=df['LAND_BAREA']/df['LANDBAREA_ZIP3']\n",
    "df['LAND_BVOL_ZIP3']=df['LAND_BVOL']/df['LANDBVOL_ZIP3']\n",
    "df['TOT_LOT_ZIP3']=df['TOT_LOT']/df['TOTLOT_ZIP3']\n",
    "df['TOT_BAREA_ZIP3']=df['TOT_BAREA']/df['TOTBAREA_ZIP3']\n",
    "df['TOT_BVOL_ZIP3']=df['TOT_BVOL']/df['TOTBVOL_ZIP3']\n",
    "\n",
    "#TAXCLASS\n",
    "df['FULL_LOT_TAXCLASS']=df['FULL_LOT']/df['FULLLOT_TAXCLASS']\n",
    "df['FULL_BAREA_TAXCLASS']=df['FULL_BAREA']/df['FULLBAREA_TAXCLASS']\n",
    "df['FULL_BVOL_TAXCLASS']=df['FULL_BVOL']/df['FULLBVOL_TAXCLASS']\n",
    "df['LAND_LOT_TAXCLASS']=df['LAND_LOT']/df['LANDLOT_TAXCLASS']\n",
    "df['LAND_BAREA_TAXCLASS']=df['LAND_BAREA']/df['LANDBAREA_TAXCLASS']\n",
    "df['LAND_BVOL_TAXCLASS']=df['LAND_BVOL']/df['LANDBVOL_TAXCLASS']\n",
    "df['TOT_LOT_TAXCLASS']=df['TOT_LOT']/df['TOTLOT_TAXCLASS']\n",
    "df['TOT_BAREA_TAXCLASS']=df['TOT_BAREA']/df['TOTBAREA_TAXCLASS']\n",
    "df['TOT_BVOL_TAXCLASS']=df['TOT_BVOL']/df['TOTBVOL_TAXCLASS']\n",
    "\n",
    "#BORO\n",
    "df['FULL_LOT_BORO']=df['FULL_LOT']/df['FULLLOT_BORO']\n",
    "df['FULL_BAREA_BORO']=df['FULL_BAREA']/df['FULLBAREA_BORO']\n",
    "df['FULL_BVOL_BORO']=df['FULL_BVOL']/df['FULLBVOL_BORO']\n",
    "df['LAND_LOT_BORO']=df['LAND_LOT']/df['LANDLOT_BORO']\n",
    "df['LAND_BAREA_BORO']=df['LAND_BAREA']/df['LANDBAREA_BORO']\n",
    "df['LAND_BVOL_BORO']=df['LAND_BVOL']/df['LANDBVOL_BORO']\n",
    "df['TOT_LOT_BORO']=df['TOT_LOT']/df['TOTLOT_BORO']\n",
    "df['TOT_BAREA_BORO']=df['TOT_BAREA']/df['TOTBAREA_BORO']\n",
    "df['TOT_BVOL_BORO']=df['TOT_BVOL']/df['TOTBVOL_BORO']\n",
    "\n",
    "#BLDGCL\n",
    "df['FULL_LOT_BLDGCL']=df['FULL_LOT']/df['FULLLOT_BLDGCL']\n",
    "df['FULL_BAREA_BLDGCL']=df['FULL_BAREA']/df['FULLBAREA_BLDGCL']\n",
    "df['FULL_BVOL_BLDGCL']=df['FULL_BVOL']/df['FULLBVOL_BLDGCL']\n",
    "df['LAND_LOT_BLDGCL']=df['LAND_LOT']/df['LANDLOT_BLDGCL']\n",
    "df['LAND_BAREA_BLDGCL']=df['LAND_BAREA']/df['LANDBAREA_BLDGCL']\n",
    "df['LAND_BVOL_BLDGCL']=df['LAND_BVOL']/df['LANDBVOL_BLDGCL']\n",
    "df['TOT_LOT_BLDGCL']=df['TOT_LOT']/df['TOTLOT_BLDGCL']\n",
    "df['TOT_BAREA_BLDGCL']=df['TOT_BAREA']/df['TOTBAREA_BLDGCL']\n",
    "df['TOT_BVOL_BLDGCL']=df['TOT_BVOL']/df['TOTBVOL_BLDGCL']\n"
   ]
  },
  {
   "cell_type": "code",
   "execution_count": null,
   "metadata": {
    "collapsed": true
   },
   "outputs": [],
   "source": [
    "df = df.drop(['FULLLOT_ZIP3','FULLBAREA_ZIP3','FULLBVOL_ZIP3','LANDLOT_ZIP3','LANDBAREA_ZIP3','LANDBVOL_ZIP3',\n",
    "                  'TOTLOT_ZIP3','TOTBAREA_ZIP3','TOTBVOL_ZIP3','FULLLOT_TAXCLASS','FULLBAREA_TAXCLASS','FULLBVOL_TAXCLASS',\n",
    "                  'LANDLOT_TAXCLASS','LANDBAREA_TAXCLASS','LANDBVOL_TAXCLASS','TOTLOT_TAXCLASS','TOTBAREA_TAXCLASS',\n",
    "                  'TOTBVOL_TAXCLASS','FULLLOT_BORO','FULLBAREA_BORO','FULLBVOL_BORO','LANDLOT_BORO','LANDBAREA_BORO',\n",
    "                  'LANDBVOL_BORO','TOTLOT_BORO','TOTBAREA_BORO','TOTBVOL_BORO','FULLLOT_BLDGCL','FULLBAREA_BLDGCL','FULLBVOL_BLDGCL',\n",
    "                  'LANDLOT_BLDGCL','LANDBAREA_BLDGCL','LANDBVOL_BLDGCL','TOTLOT_BLDGCL','TOTBAREA_BLDGCL','TOTBVOL_BLDGCL'],\n",
    "       axis = 1)\n",
    "\n",
    "df.to_csv(\"NY_Property_Prepared.csv\")"
   ]
  },
  {
   "cell_type": "code",
   "execution_count": null,
   "metadata": {
    "collapsed": true
   },
   "outputs": [],
   "source": [
    "df = pd.read_csv('NY_Property_Prepared.csv')"
   ]
  },
  {
   "cell_type": "code",
   "execution_count": null,
   "metadata": {
    "collapsed": true
   },
   "outputs": [],
   "source": [
    "df = df.assign(ln_FULL_BAREA = lambda x: np.log(x.FULL_BAREA))\n",
    "df = df.assign(ln_FULL_BVOL = lambda x: np.log(x.FULL_BVOL))\n",
    "df = df.assign(ln_LAND_LOT = lambda x: np.log(x.LAND_LOT))\n",
    "df = df.assign(ln_LAND_BAREA = lambda x: np.log(x.LAND_BAREA))\n",
    "df = df.assign(ln_LAND_BVOL = lambda x: np.log(x.LAND_BVOL))\n",
    "df = df.assign(ln_TOT_LOT = lambda x: np.log(x.TOT_LOT))\n",
    "df = df.assign(ln_TOT_BAREA = lambda x: np.log(x.TOT_BAREA))\n",
    "df = df.assign(ln_TOT_BVOL = lambda x: np.log(x.TOT_BVOL))"
   ]
  },
  {
   "cell_type": "code",
   "execution_count": null,
   "metadata": {
    "collapsed": true
   },
   "outputs": [],
   "source": [
    "p1=df['TAXCLASS'].replace('1','resi')\n",
    "p2=p1.replace('1B','resi')\n",
    "p3=p2.replace('1A','resi')\n",
    "p4=p3.replace('1C','resi')\n",
    "p5=p4.replace('1D','resi')\n",
    "df['TAXCLASS_REGROUP']=p5\n",
    "df['TAXCLASS_REGROUP'].head(100)\n",
    "\n",
    "p6=df['TAXCLASS_REGROUP'].replace('2','rental')\n",
    "p7=p6.replace('2B','rental')\n",
    "p8=p7.replace('2A','rental')\n",
    "p9=p8.replace('2C','rental')\n",
    "df['TAXCLASS_REGROUP']=p9\n",
    "df['TAXCLASS_REGROUP'].head(100)\n",
    "\n",
    "df['TAXCLASS_REGROUP']=df['TAXCLASS_REGROUP'].replace('3','utility')\n",
    "\n",
    "df['TAXCLASS_REGROUP']=df['TAXCLASS_REGROUP'].replace('4','commercial')\n",
    "\n"
   ]
  },
  {
   "cell_type": "code",
   "execution_count": null,
   "metadata": {
    "collapsed": true
   },
   "outputs": [],
   "source": [
    "avg_tax_regroup = df.iloc[:,[-1,38,39,40,41,42,43,44,45,46]].groupby(['TAXCLASS_REGROUP']).transform('mean')\n",
    "avg_tax_regroup.columns = ['FULLLOT_TAX_REGROUP','FULLBAREA_TAX_REGROUP','FULLBVOL_TAX_REGROUP','LANDLOT_TAX_REGROUP',\n",
    "                             'LANDBAREA_TAX_REGROUP','LANDBVOL_TAX_REGROUP','TOTLOT_TAX_REGROUP','TOTBAREA_TAX_REGROUP',\n",
    "                             'TOTBVOL_TAX_REGROUP']\n",
    "NY_Property_Prepared1 = pd.concat([df,avg_tax_regroup], axis=1)\n",
    "df = NY_Property_Prepared1\n"
   ]
  },
  {
   "cell_type": "code",
   "execution_count": null,
   "metadata": {
    "collapsed": true
   },
   "outputs": [],
   "source": [
    "#TAXCLASS_REGROUP\n",
    "df['FULL_LOT_TAX_REGROUP']=df['FULL_LOT']/df['FULLLOT_TAX_REGROUP']\n",
    "df['FULL_BAREA_TAX_REGROUP']=df['FULL_BAREA']/df['FULLBAREA_TAX_REGROUP']\n",
    "df['FULL_BVOL_TAX_REGROUP']=df['FULL_BVOL']/df['FULLBVOL_TAX_REGROUP']\n",
    "df['LAND_LOT_TAX_REGROUP']=df['LAND_LOT']/df['LANDLOT_TAX_REGROUP']\n",
    "df['LAND_BAREA_TAX_REGROUP']=df['LAND_BAREA']/df['LANDBAREA_TAX_REGROUP']\n",
    "df['LAND_BVOL_TAX_REGROUP']=df['LAND_BVOL']/df['LANDBVOL_TAX_REGROUP']\n",
    "df['TOT_LOT_TAX_REGROUP']=df['TOT_LOT']/df['TOTLOT_TAX_REGROUP']\n",
    "df['TOT_BAREA_TAX_REGROUP']=df['TOT_BAREA']/df['TOTBAREA_TAX_REGROUP']\n",
    "df['TOT_BVOL_TAX_REGROUP']=df['TOT_BVOL']/df['TOTBVOL_TAX_REGROUP']"
   ]
  },
  {
   "cell_type": "code",
   "execution_count": null,
   "metadata": {
    "collapsed": true
   },
   "outputs": [],
   "source": [
    "df.to_csv(\"NY_Property_Prepared_TR.csv\")"
   ]
  },
  {
   "cell_type": "code",
   "execution_count": null,
   "metadata": {
    "collapsed": true
   },
   "outputs": [],
   "source": [
    "df = df.drop(['FULLLOT_TAX_REGROUP','FULLBAREA_TAX_REGROUP','FULLBVOL_TAX_REGROUP','LANDLOT_TAX_REGROUP','LANDBAREA_TAX_REGROUP',\n",
    "             'LANDBVOL_TAX_REGROUP','TOTLOT_TAX_REGROUP','TOTBAREA_TAX_REGROUP','TOTBVOL_TAX_REGROUP'],\n",
    "       axis = 1)"
   ]
  },
  {
   "cell_type": "code",
   "execution_count": null,
   "metadata": {
    "collapsed": true
   },
   "outputs": [],
   "source": [
    "df.to_csv(\"NY_Property_Prepared_Final.csv\")"
   ]
  }
 ],
 "metadata": {
  "kernelspec": {
   "display_name": "Python 3",
   "language": "python",
   "name": "python3"
  },
  "language_info": {
   "codemirror_mode": {
    "name": "ipython",
    "version": 3
   },
   "file_extension": ".py",
   "mimetype": "text/x-python",
   "name": "python",
   "nbconvert_exporter": "python",
   "pygments_lexer": "ipython3",
   "version": "3.6.3"
  }
 },
 "nbformat": 4,
 "nbformat_minor": 2
}
